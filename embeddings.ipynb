{
 "cells": [
  {
   "cell_type": "code",
   "execution_count": null,
   "metadata": {},
   "outputs": [],
   "source": [
    "import torch\n",
    "from transformers import AutoTokenizer, AutoModel\n",
    "\n",
    "# Load SBERT model\n",
    "model_name = \"sentence-transformers/all-MiniLM-L6-v2\"\n",
    "tokenizer = AutoTokenizer.from_pretrained(model_name)\n",
    "model = AutoModel.from_pretrained(model_name)\n",
    "\n",
    "# Dataset preparation\n",
    "data_texts = open(\"data/dataset_texts.txt\").read().splitlines()\n",
    "\n",
    "# Generate embeddings\n",
    "data_embeddings = []\n",
    "for text in data_texts:\n",
    "    inputs = tokenizer(text, return_tensors=\"pt\")\n",
    "    embeddings = model(**inputs).last_hidden_state.mean(dim=1)\n",
    "    data_embeddings.append(embeddings)\n",
    "\n",
    "# Save embeddings\n",
    "torch.save(torch.stack(data_embeddings), \"data/embeddings.pt\")\n"
   ]
  }
 ],
 "metadata": {
  "kernelspec": {
   "display_name": "Python 3",
   "language": "python",
   "name": "python3"
  },
  "language_info": {
   "name": "python",
   "version": "3.11.9"
  }
 },
 "nbformat": 4,
 "nbformat_minor": 2
}
